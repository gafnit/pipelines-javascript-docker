{
 "cells": [
  {
   "cell_type": "code",
   "execution_count": 3,
   "metadata": {},
   "outputs": [
    {
     "data": {
      "text/plain": [
       "0"
      ]
     },
     "execution_count": 3,
     "metadata": {},
     "output_type": "execute_result"
    }
   ],
   "source": [
    "print(\"hello")"
   ]
  }
 ],
 "metadata": {
   "name": "python-hello"
  }
 },
 "nbformat": 4,
 "nbformat_minor": 4
}
