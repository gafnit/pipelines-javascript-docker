{
 "metadata": {
  "name": "" },
 "nbformat": 3,
 "nbformat_minor": 0,
 "worksheets": [
  {
   "cells": [
    {
     "cell_type": "markdown",
     "metadata": {},
     "source": [
      "# Using Treasure Data with Python and Pandas\n",
      "\n",
      "Treasure Data has a [python client](https://github.com/treasure-data/td-client-python), which means pandas/python users can connect directly from their iPython Notebooks.\n",
      "\n",
      "All you need is a Treasure Data account, which you can get from [here](https://console.treasuredata.com/users/sign_up)"
     ]
    },
    {
     "cell_type": "code",
     "collapsed": false,
     "input": [
      "import tdclient\n",
      "import pandas as pd\n",
      "import numpy as np\n",
      "%matplotlib inline"
     ],
     "language": "python",
     "metadata": {},
     "outputs": [],
     "prompt_number": 2
    },
    {
     "cell_type": "markdown",
     "metadata": {},
     "source": [
      "## Getting Treasure Data's apikey\n"
     ]
    }
   ],
   "metadata": {}
  }
 ]
}
