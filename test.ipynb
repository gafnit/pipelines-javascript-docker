{
 "metadata": {
  "name": "" },
 "nbformat": 3,
 "nbformat_minor": 0,
 "worksheets": [
  {
   "cells": [
    {
     "cell_type": "markdown",
     "metadata": {},
     "source": [
      "# Using Treasure Data with Python and Pandas\n",
      "\n",
      "Treasure Data has a [python client](https://github.com/treasure-data/td-client-python), which means pandas/python users can connect directly from their iPython Notebooks.\n",
      "\n",
      "All you need is a Treasure Data account, which you can get from [here](https://console.treasuredata.com/users/sign_up)"
     ]
    },
    {
     "cell_type": "code",
     "collapsed": false,
     "input": [
      "import tdclient\n",
      "import pandas as pd\n",
      "import numpy as np\n",
      "%matplotlib inline"
     ],
     "language": "python",
     "metadata": {},
     "outputs": [],
     "prompt_number": 2
    },
    {
     "cell_type": "markdown",
     "metadata": {},
     "source": [
      "## Getting Treasure Data's apikey\n",
      "\n",
      "You need to get your Treasure Data API key. There are two ways to fetch your API keys after you sign up for Treasure Data.\n",
      "\n",
      "1. **From web console**: Please access [this URL](https://console.treasuredata.com/users/current). At the right most column, you can retrieve the API key. You want to use the Normal, not Write-Only API keys to run queries.\n",
      "2. **From CLI**: If you are the `td` command user, running the following command exposes your API key.\n",
      "    ```\n",
      "    td apikey:show\n",
      "    ```"
     ]
    },
    {
     "cell_type": "code",
     "collapsed": false,
     "input": [
      "apikey = 'Your API key here' # Setting your API key"
     ],
     "language": "python",
     "metadata": {},
     "outputs": [],
     "prompt_number": 3
    },
    {
     "cell_type": "code",
     "collapsed": false,
     "input": [
      "client = tdclient.Client(apikey) # instantiating the client"
     ],
     "language": "python",
     "metadata": {},
     "outputs": [],
     "prompt_number": 4
    }
   ],
   "metadata": {}
  }
 ]
}
